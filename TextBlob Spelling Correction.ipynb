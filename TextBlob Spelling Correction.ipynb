{
 "cells": [
  {
   "cell_type": "markdown",
   "metadata": {},
   "source": [
    "### Load the packages"
   ]
  },
  {
   "cell_type": "code",
   "execution_count": 1,
   "metadata": {},
   "outputs": [],
   "source": [
    "from textblob import TextBlob\n",
    "import re"
   ]
  },
  {
   "cell_type": "markdown",
   "metadata": {},
   "source": [
    "### Clean the input text"
   ]
  },
  {
   "cell_type": "code",
   "execution_count": 2,
   "metadata": {},
   "outputs": [
    {
     "name": "stdout",
     "output_type": "stream",
     "text": [
      "People have travelled through and inhabited the Toronto area, located on a broad sloping plateau interspersed with rivers, deep ravines, and urban forest, for more than 10,000 years.[18] After the broadly disputed Torronto Purchase, when the Mississauga surrendered the area to the British Crown,[19] the British established the town of York in 1793 and later designeted it as the capital of Upper Canada.[20] During the War of 1812, the town was the site of the Battle of York and suffered heavy damage by American troops.[21] York was renamed and incorporated in 1834 as the city of Toronto. It was designated as the capitel of the province of Ontario in 1867 during Canadian Confederation.[22] The city proper has since expanded past its original borders through both annexation and amalgamation to its current area of 630.2 km2 (243.3 sq mi). The diverse population of Tornto reflects its current and historical role as an important destination for immigrants to Canada.[23][24] More than 50 percent of residants belong to a visible minority population group,[25] and over 200 distinct ethnic origins are represented among its inhabitats.[26] While the majority of Torontonians speak English as their premary language, over 160 languages are spoken in the city.[27] Toront is a prominent center for music,[28] theatre,[29] motion picture production,[30] and tilevision production,[31] and is home to the headquarters of Canada's major notional broadcast networks and media outlets.[32] Its varied caltural institutions,[33] which include numerous museums and gelleries, festivals and public events, entertaiment districts, national historic sites, and sports actevities,[34] attract over 43 million touriets each year.[35][36] Torunto is known for its many skysvrapers and high-rise buildinds,[37] in particalar the tallest free-standind structure in the Western Hemisphere, the CN Tower.\n"
     ]
    }
   ],
   "source": [
    "## Input text\n",
    "\n",
    "docx=\"People have travelled through and inhabited the Toronto area, located on a broad sloping plateau interspersed with rivers, deep ravines, and urban forest, for more than 10,000 years.[18] After the broadly disputed Torronto Purchase, when the Mississauga surrendered the area to the British Crown,[19] the British established the town of York in 1793 and later designeted it as the capital of Upper Canada.[20] During the War of 1812, the town was the site of the Battle of York and suffered heavy damage by American troops.[21] York was renamed and incorporated in 1834 as the city of Toronto. It was designated as the capitel of the province of Ontario in 1867 during Canadian Confederation.[22] The city proper has since expanded past its original borders through both annexation and amalgamation to its current area of 630.2 km2 (243.3 sq mi). The diverse population of Tornto reflects its current and historical role as an important destination for immigrants to Canada.[23][24] More than 50 percent of residants belong to a visible minority population group,[25] and over 200 distinct ethnic origins are represented among its inhabitats.[26] While the majority of Torontonians speak English as their premary language, over 160 languages are spoken in the city.[27] Toront is a prominent center for music,[28] theatre,[29] motion picture production,[30] and tilevision production,[31] and is home to the headquarters of Canada's major notional broadcast networks and media outlets.[32] Its varied caltural institutions,[33] which include numerous museums and gelleries, festivals and public events, entertaiment districts, national historic sites, and sports actevities,[34] attract over 43 million touriets each year.[35][36] Torunto is known for its many skysvrapers and high-rise buildinds,[37] in particalar the tallest free-standind structure in the Western Hemisphere, the CN Tower.\"\n",
    "print(docx)"
   ]
  },
  {
   "cell_type": "code",
   "execution_count": 3,
   "metadata": {},
   "outputs": [
    {
     "name": "stdout",
     "output_type": "stream",
     "text": [
      "People have travelled through and inhabited the Toronto area, located on a broad sloping plateau interspersed with rivers, deep ravines, and urban forest, for more than , years. After the broadly disputed Torronto Purchase, when the Mississauga surrendered the area to the British Crown, the British established the town of York in and later designeted it as the capital of Upper Canada. During the War of , the town was the site of the Battle of York and suffered heavy damage by American troops. York was renamed and incorporated in as the city of Toronto. It was designated as the capitel of the province of Ontario in during Canadian Confederation. The city proper has since expanded past its original borders through both annexation and amalgamation to its current area of . km . sq mi . The diverse population of Tornto reflects its current and historical role as an important destination for immigrants to Canada. More than percent of residants belong to a visible minority population group, and over distinct ethnic origins are represented among its inhabitats. While the majority of Torontonians speak English as their premary language, over languages are spoken in the city. Toront is a prominent center for music, theatre, motion picture production, and tilevision production, and is home to the headquarters of Canada s major notional broadcast networks and media outlets. Its varied caltural institutions, which include numerous museums and gelleries, festivals and public events, entertaiment districts, national historic sites, and sports actevities, attract over million touriets each year. Torunto is known for its many skysvrapers and high rise buildinds, in particalar the tallest free standind structure in the Western Hemisphere, the CN Tower.\n"
     ]
    }
   ],
   "source": [
    "## regex to clean the text\n",
    "\n",
    "import re\n",
    "str=re.findall(\"[a-zA-Z,.]+\",docx)\n",
    "updated_docx=(\" \".join(str))\n",
    "print(updated_docx)"
   ]
  },
  {
   "cell_type": "markdown",
   "metadata": {},
   "source": [
    "## SpellCheck to identify the incorrect tokens"
   ]
  },
  {
   "cell_type": "code",
   "execution_count": 6,
   "metadata": {},
   "outputs": [
    {
     "name": "stdout",
     "output_type": "stream",
     "text": [
      "{'year.', 'outlets.', 'city.', 'crown,', 'districts,', 'tower.', 'skysvrapers', 'entertaiment', 'standind', 'residants', 'rivers,', 'forest,', 'torronto', 'torunto', 'actevities,', 'touriets', 'toront', 'particalar', 'gelleries,', 'production,', 'designeted', 'purchase,', 'hemisphere,', 'area,', 'capitel', 'ravines,', 'premary', 'inhabitats.', 'events,', 'tilevision', 'toronto.', 'tornto', 'buildinds,', 'confederation.', 'sites,', 'caltural', 'theatre,', 'institutions,', 'years.', 'group,', 'canada.', 'language,', 'music,', 'troops.', 'torontonians', 'mississauga'}\n"
     ]
    }
   ],
   "source": [
    "from spellchecker import SpellChecker\n",
    "spell = SpellChecker()\n",
    "misspelled = spell.unknown(str)\n",
    "print(misspelled)"
   ]
  },
  {
   "cell_type": "code",
   "execution_count": 7,
   "metadata": {},
   "outputs": [],
   "source": [
    "new_doc=TextBlob(updated_docx)"
   ]
  },
  {
   "cell_type": "code",
   "execution_count": 8,
   "metadata": {},
   "outputs": [
    {
     "name": "stdout",
     "output_type": "stream",
     "text": [
      "People have travelled through and inhabited the Toronto area, located on a broad sloping plateau interspersed with rivers, deep ravines, and urban forest, for more than , years. After the broadly disputed Torronto Purchase, when the Mississauga surrendered the area to the British Grown, the British established the town of Work in and later designed it as the capital of Upper Canada. During the War of , the town was the site of the Battle of Work and suffered heavy damage by American troops. Work was renamed and incorporated in as the city of Toronto. It was designate as the capital of the province of Ontario in during Canadian Confederation. The city proper has since expanded past its original borders through both annexation and amalgamation to its current area of . km . sq mi . The diverse population of Onto reflect its current and historical role as an important destination for immigrants to Canada. More than percent of residents belong to a visible minority population group, and over distinct ethnic origins are represented among its inhabitants. While the majority of Torontonians speak English as their primary language, over languages are spoken in the city. Front is a prominent center for music, theatre, motion picture production, and television production, and is home to the headquarters of Canada s major national broadcast network and media outlets. Its varied cultural institutions, which include numerous museums and galleries, festival and public events, entertainment districts, national historic sites, and sports activities, attract over million tories each year. Torunto is known for its many skysvrapers and high rise buildings, in particular the tables free standing structure in the Western Hemisphere, the of Power.\n"
     ]
    }
   ],
   "source": [
    "print(new_doc.correct())"
   ]
  },
  {
   "cell_type": "code",
   "execution_count": null,
   "metadata": {},
   "outputs": [],
   "source": []
  }
 ],
 "metadata": {
  "kernelspec": {
   "display_name": "Python 3",
   "language": "python",
   "name": "python3"
  },
  "language_info": {
   "codemirror_mode": {
    "name": "ipython",
    "version": 3
   },
   "file_extension": ".py",
   "mimetype": "text/x-python",
   "name": "python",
   "nbconvert_exporter": "python",
   "pygments_lexer": "ipython3",
   "version": "3.7.4"
  }
 },
 "nbformat": 4,
 "nbformat_minor": 4
}
